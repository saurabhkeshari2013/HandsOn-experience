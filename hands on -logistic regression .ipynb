{
 "cells": [
  {
   "cell_type": "code",
   "execution_count": 1,
   "id": "bf504f9d",
   "metadata": {},
   "outputs": [],
   "source": [
    "import numpy as np\n",
    "import pandas as pd\n",
    "import seaborn as sns\n",
    "from matplotlib import pyplot as plt"
   ]
  },
  {
   "cell_type": "code",
   "execution_count": 2,
   "id": "2ea18ae3",
   "metadata": {},
   "outputs": [],
   "source": [
    "glass=pd.read_excel('glass_df.xlsx')"
   ]
  },
  {
   "cell_type": "code",
   "execution_count": 3,
   "id": "9e44eef0",
   "metadata": {},
   "outputs": [
    {
     "data": {
      "text/html": [
       "<div>\n",
       "<style scoped>\n",
       "    .dataframe tbody tr th:only-of-type {\n",
       "        vertical-align: middle;\n",
       "    }\n",
       "\n",
       "    .dataframe tbody tr th {\n",
       "        vertical-align: top;\n",
       "    }\n",
       "\n",
       "    .dataframe thead th {\n",
       "        text-align: right;\n",
       "    }\n",
       "</style>\n",
       "<table border=\"1\" class=\"dataframe\">\n",
       "  <thead>\n",
       "    <tr style=\"text-align: right;\">\n",
       "      <th></th>\n",
       "      <th>ri</th>\n",
       "      <th>na</th>\n",
       "      <th>mg</th>\n",
       "      <th>al</th>\n",
       "      <th>si</th>\n",
       "      <th>k</th>\n",
       "      <th>ca</th>\n",
       "      <th>ba</th>\n",
       "      <th>fe</th>\n",
       "      <th>glass_type</th>\n",
       "    </tr>\n",
       "  </thead>\n",
       "  <tbody>\n",
       "    <tr>\n",
       "      <th>0</th>\n",
       "      <td>1.51966</td>\n",
       "      <td>14.77</td>\n",
       "      <td>3.75</td>\n",
       "      <td>0.29</td>\n",
       "      <td>72.02</td>\n",
       "      <td>0.03</td>\n",
       "      <td>9.00</td>\n",
       "      <td>0.00</td>\n",
       "      <td>0.00</td>\n",
       "      <td>1</td>\n",
       "    </tr>\n",
       "    <tr>\n",
       "      <th>1</th>\n",
       "      <td>1.51115</td>\n",
       "      <td>17.38</td>\n",
       "      <td>0.00</td>\n",
       "      <td>0.34</td>\n",
       "      <td>75.41</td>\n",
       "      <td>0.00</td>\n",
       "      <td>6.65</td>\n",
       "      <td>0.00</td>\n",
       "      <td>0.00</td>\n",
       "      <td>6</td>\n",
       "    </tr>\n",
       "    <tr>\n",
       "      <th>2</th>\n",
       "      <td>1.52213</td>\n",
       "      <td>14.21</td>\n",
       "      <td>3.82</td>\n",
       "      <td>0.47</td>\n",
       "      <td>71.77</td>\n",
       "      <td>0.11</td>\n",
       "      <td>9.57</td>\n",
       "      <td>0.00</td>\n",
       "      <td>0.00</td>\n",
       "      <td>1</td>\n",
       "    </tr>\n",
       "    <tr>\n",
       "      <th>3</th>\n",
       "      <td>1.52213</td>\n",
       "      <td>14.21</td>\n",
       "      <td>3.82</td>\n",
       "      <td>0.47</td>\n",
       "      <td>71.77</td>\n",
       "      <td>0.11</td>\n",
       "      <td>9.57</td>\n",
       "      <td>0.00</td>\n",
       "      <td>0.00</td>\n",
       "      <td>1</td>\n",
       "    </tr>\n",
       "    <tr>\n",
       "      <th>4</th>\n",
       "      <td>1.52320</td>\n",
       "      <td>13.72</td>\n",
       "      <td>3.72</td>\n",
       "      <td>0.51</td>\n",
       "      <td>71.75</td>\n",
       "      <td>0.09</td>\n",
       "      <td>10.06</td>\n",
       "      <td>0.00</td>\n",
       "      <td>0.16</td>\n",
       "      <td>1</td>\n",
       "    </tr>\n",
       "    <tr>\n",
       "      <th>...</th>\n",
       "      <td>...</td>\n",
       "      <td>...</td>\n",
       "      <td>...</td>\n",
       "      <td>...</td>\n",
       "      <td>...</td>\n",
       "      <td>...</td>\n",
       "      <td>...</td>\n",
       "      <td>...</td>\n",
       "      <td>...</td>\n",
       "      <td>...</td>\n",
       "    </tr>\n",
       "    <tr>\n",
       "      <th>209</th>\n",
       "      <td>1.51623</td>\n",
       "      <td>14.20</td>\n",
       "      <td>0.00</td>\n",
       "      <td>2.79</td>\n",
       "      <td>73.46</td>\n",
       "      <td>0.04</td>\n",
       "      <td>9.04</td>\n",
       "      <td>0.40</td>\n",
       "      <td>0.09</td>\n",
       "      <td>7</td>\n",
       "    </tr>\n",
       "    <tr>\n",
       "      <th>210</th>\n",
       "      <td>1.51623</td>\n",
       "      <td>14.14</td>\n",
       "      <td>0.00</td>\n",
       "      <td>2.88</td>\n",
       "      <td>72.61</td>\n",
       "      <td>0.08</td>\n",
       "      <td>9.18</td>\n",
       "      <td>1.06</td>\n",
       "      <td>0.00</td>\n",
       "      <td>7</td>\n",
       "    </tr>\n",
       "    <tr>\n",
       "      <th>211</th>\n",
       "      <td>1.51321</td>\n",
       "      <td>13.00</td>\n",
       "      <td>0.00</td>\n",
       "      <td>3.02</td>\n",
       "      <td>70.70</td>\n",
       "      <td>6.21</td>\n",
       "      <td>6.93</td>\n",
       "      <td>0.00</td>\n",
       "      <td>0.00</td>\n",
       "      <td>5</td>\n",
       "    </tr>\n",
       "    <tr>\n",
       "      <th>212</th>\n",
       "      <td>1.51316</td>\n",
       "      <td>13.02</td>\n",
       "      <td>0.00</td>\n",
       "      <td>3.04</td>\n",
       "      <td>70.48</td>\n",
       "      <td>6.21</td>\n",
       "      <td>6.96</td>\n",
       "      <td>0.00</td>\n",
       "      <td>0.00</td>\n",
       "      <td>5</td>\n",
       "    </tr>\n",
       "    <tr>\n",
       "      <th>213</th>\n",
       "      <td>1.51514</td>\n",
       "      <td>14.01</td>\n",
       "      <td>2.68</td>\n",
       "      <td>3.50</td>\n",
       "      <td>69.89</td>\n",
       "      <td>1.68</td>\n",
       "      <td>5.87</td>\n",
       "      <td>2.20</td>\n",
       "      <td>0.00</td>\n",
       "      <td>5</td>\n",
       "    </tr>\n",
       "  </tbody>\n",
       "</table>\n",
       "<p>214 rows × 10 columns</p>\n",
       "</div>"
      ],
      "text/plain": [
       "          ri     na    mg    al     si     k     ca    ba    fe  glass_type\n",
       "0    1.51966  14.77  3.75  0.29  72.02  0.03   9.00  0.00  0.00           1\n",
       "1    1.51115  17.38  0.00  0.34  75.41  0.00   6.65  0.00  0.00           6\n",
       "2    1.52213  14.21  3.82  0.47  71.77  0.11   9.57  0.00  0.00           1\n",
       "3    1.52213  14.21  3.82  0.47  71.77  0.11   9.57  0.00  0.00           1\n",
       "4    1.52320  13.72  3.72  0.51  71.75  0.09  10.06  0.00  0.16           1\n",
       "..       ...    ...   ...   ...    ...   ...    ...   ...   ...         ...\n",
       "209  1.51623  14.20  0.00  2.79  73.46  0.04   9.04  0.40  0.09           7\n",
       "210  1.51623  14.14  0.00  2.88  72.61  0.08   9.18  1.06  0.00           7\n",
       "211  1.51321  13.00  0.00  3.02  70.70  6.21   6.93  0.00  0.00           5\n",
       "212  1.51316  13.02  0.00  3.04  70.48  6.21   6.96  0.00  0.00           5\n",
       "213  1.51514  14.01  2.68  3.50  69.89  1.68   5.87  2.20  0.00           5\n",
       "\n",
       "[214 rows x 10 columns]"
      ]
     },
     "execution_count": 3,
     "metadata": {},
     "output_type": "execute_result"
    }
   ],
   "source": [
    "glass"
   ]
  },
  {
   "cell_type": "code",
   "execution_count": 4,
   "id": "6a164598",
   "metadata": {},
   "outputs": [
    {
     "data": {
      "text/plain": [
       "glass_type\n",
       "2    76\n",
       "1    70\n",
       "7    29\n",
       "3    17\n",
       "5    13\n",
       "6     9\n",
       "Name: count, dtype: int64"
      ]
     },
     "execution_count": 4,
     "metadata": {},
     "output_type": "execute_result"
    }
   ],
   "source": [
    "glass['glass_type'].value_counts()"
   ]
  },
  {
   "cell_type": "code",
   "execution_count": 5,
   "id": "5fd22130",
   "metadata": {},
   "outputs": [
    {
     "data": {
      "text/plain": [
       "0      0\n",
       "1      1\n",
       "2      0\n",
       "3      0\n",
       "4      0\n",
       "      ..\n",
       "209    1\n",
       "210    1\n",
       "211    1\n",
       "212    1\n",
       "213    1\n",
       "Name: glass_type, Length: 214, dtype: int64"
      ]
     },
     "execution_count": 5,
     "metadata": {},
     "output_type": "execute_result"
    }
   ],
   "source": [
    "glass['glass_type']=glass['glass_type'].map({1:0,2:0,3:0,5:1,6:1,7:1})\n",
    "glass['glass_type']"
   ]
  },
  {
   "cell_type": "code",
   "execution_count": 6,
   "id": "1f6e2ebc",
   "metadata": {},
   "outputs": [
    {
     "data": {
      "text/plain": [
       "glass_type\n",
       "0    163\n",
       "1     51\n",
       "Name: count, dtype: int64"
      ]
     },
     "execution_count": 6,
     "metadata": {},
     "output_type": "execute_result"
    }
   ],
   "source": [
    "glass['glass_type'].value_counts()"
   ]
  },
  {
   "cell_type": "code",
   "execution_count": 7,
   "id": "a796a745",
   "metadata": {},
   "outputs": [
    {
     "data": {
      "text/plain": [
       "Index(['ri', 'na', 'mg', 'al', 'si', 'k', 'ca', 'ba', 'fe', 'glass_type'], dtype='object')"
      ]
     },
     "execution_count": 7,
     "metadata": {},
     "output_type": "execute_result"
    }
   ],
   "source": [
    "glass.columns"
   ]
  },
  {
   "cell_type": "code",
   "execution_count": 8,
   "id": "078a37d4",
   "metadata": {},
   "outputs": [
    {
     "data": {
      "image/png": "[encoded data removed]",
      "text/plain": [
       "<Figure size 500x400 with 1 Axes>"
      ]
     },
     "metadata": {},
     "output_type": "display_data"
    }
   ],
   "source": [
    "plt.figure(figsize=(5,4))\n",
    "sns.scatterplot(x=glass['al'],y=glass['glass_type'])\n",
    "plt.show()"
   ]
  },
  {
   "cell_type": "code",
   "execution_count": 9,
   "id": "5225c6f1",
   "metadata": {},
   "outputs": [],
   "source": [
    "# let check linear regression model"
   ]
  },
  {
   "cell_type": "code",
   "execution_count": 10,
   "id": "e09818eb",
   "metadata": {},
   "outputs": [],
   "source": [
    "x=glass[['al']]\n",
    "y=glass['glass_type']\n",
    "\n",
    "from sklearn.linear_model import LinearRegression\n",
    "model=LinearRegression()\n",
    "model.fit(x,y)\n",
    "glass['linear_model_prediction']=model.predict(x)"
   ]
  },
  {
   "cell_type": "code",
   "execution_count": 11,
   "id": "b34121a1",
   "metadata": {},
   "outputs": [
    {
     "data": {
      "text/html": [
       "<div>\n",
       "<style scoped>\n",
       "    .dataframe tbody tr th:only-of-type {\n",
       "        vertical-align: middle;\n",
       "    }\n",
       "\n",
       "    .dataframe tbody tr th {\n",
       "        vertical-align: top;\n",
       "    }\n",
       "\n",
       "    .dataframe thead th {\n",
       "        text-align: right;\n",
       "    }\n",
       "</style>\n",
       "<table border=\"1\" class=\"dataframe\">\n",
       "  <thead>\n",
       "    <tr style=\"text-align: right;\">\n",
       "      <th></th>\n",
       "      <th>glass_type</th>\n",
       "      <th>linear_model_prediction</th>\n",
       "    </tr>\n",
       "  </thead>\n",
       "  <tbody>\n",
       "    <tr>\n",
       "      <th>0</th>\n",
       "      <td>0</td>\n",
       "      <td>-0.340495</td>\n",
       "    </tr>\n",
       "    <tr>\n",
       "      <th>1</th>\n",
       "      <td>1</td>\n",
       "      <td>-0.315436</td>\n",
       "    </tr>\n",
       "    <tr>\n",
       "      <th>2</th>\n",
       "      <td>0</td>\n",
       "      <td>-0.250283</td>\n",
       "    </tr>\n",
       "    <tr>\n",
       "      <th>3</th>\n",
       "      <td>0</td>\n",
       "      <td>-0.250283</td>\n",
       "    </tr>\n",
       "    <tr>\n",
       "      <th>4</th>\n",
       "      <td>0</td>\n",
       "      <td>-0.230236</td>\n",
       "    </tr>\n",
       "    <tr>\n",
       "      <th>...</th>\n",
       "      <td>...</td>\n",
       "      <td>...</td>\n",
       "    </tr>\n",
       "    <tr>\n",
       "      <th>209</th>\n",
       "      <td>1</td>\n",
       "      <td>0.912448</td>\n",
       "    </tr>\n",
       "    <tr>\n",
       "      <th>210</th>\n",
       "      <td>1</td>\n",
       "      <td>0.957554</td>\n",
       "    </tr>\n",
       "    <tr>\n",
       "      <th>211</th>\n",
       "      <td>1</td>\n",
       "      <td>1.027718</td>\n",
       "    </tr>\n",
       "    <tr>\n",
       "      <th>212</th>\n",
       "      <td>1</td>\n",
       "      <td>1.037742</td>\n",
       "    </tr>\n",
       "    <tr>\n",
       "      <th>213</th>\n",
       "      <td>1</td>\n",
       "      <td>1.268283</td>\n",
       "    </tr>\n",
       "  </tbody>\n",
       "</table>\n",
       "<p>214 rows × 2 columns</p>\n",
       "</div>"
      ],
      "text/plain": [
       "     glass_type  linear_model_prediction\n",
       "0             0                -0.340495\n",
       "1             1                -0.315436\n",
       "2             0                -0.250283\n",
       "3             0                -0.250283\n",
       "4             0                -0.230236\n",
       "..          ...                      ...\n",
       "209           1                 0.912448\n",
       "210           1                 0.957554\n",
       "211           1                 1.027718\n",
       "212           1                 1.037742\n",
       "213           1                 1.268283\n",
       "\n",
       "[214 rows x 2 columns]"
      ]
     },
     "execution_count": 11,
     "metadata": {},
     "output_type": "execute_result"
    }
   ],
   "source": [
    "glass[['glass_type','linear_model_prediction']]"
   ]
  },
  {
   "cell_type": "code",
   "execution_count": 12,
   "id": "0e300fb7",
   "metadata": {},
   "outputs": [
    {
     "data": {
      "image/png": "[encoded data removed]",
      "text/plain": [
       "<Figure size 500x400 with 1 Axes>"
      ]
     },
     "metadata": {},
     "output_type": "display_data"
    }
   ],
   "source": [
    "plt.figure(figsize=(5,4))\n",
    "sns.scatterplot(x=glass['al'],y=glass['glass_type'])\n",
    "plt.plot(glass['al'],glass['linear_model_prediction'],color='red')\n",
    "plt.xlabel(\"AL\")\n",
    "plt.ylabel(\"Glass_Type\")\n",
    "plt.show()\n",
    "\n",
    "\n"
   ]
  },
  {
   "cell_type": "code",
   "execution_count": 13,
   "id": "9502ea5f",
   "metadata": {},
   "outputs": [],
   "source": [
    "#logistic regression model\n"
   ]
  },
  {
   "cell_type": "code",
   "execution_count": 14,
   "id": "1a0eacd2",
   "metadata": {},
   "outputs": [],
   "source": [
    "from sklearn.model_selection import train_test_split\n",
    "x=glass[['al']]\n",
    "y=glass['glass_type']\n",
    "\n",
    "x_train,x_test,y_train,y_test = train_test_split(x,y,test_size=0.2, random_state=5)"
   ]
  },
  {
   "cell_type": "code",
   "execution_count": 15,
   "id": "000aeb38",
   "metadata": {},
   "outputs": [
    {
     "name": "stdout",
     "output_type": "stream",
     "text": [
      "(171, 1)\n",
      "(43, 1)\n"
     ]
    }
   ],
   "source": [
    "print(x_train.shape)\n",
    "print(x_test.shape)"
   ]
  },
  {
   "cell_type": "code",
   "execution_count": 16,
   "id": "5d436309",
   "metadata": {},
   "outputs": [
    {
     "data": {
      "text/html": [
       "<style>#sk-container-id-1 {color: black;}#sk-container-id-1 pre{padding: 0;}#sk-container-id-1 div.sk-toggleable {background-color: white;}#sk-container-id-1 label.sk-toggleable__label {cursor: pointer;display: block;width: 100%;margin-bottom: 0;padding: 0.3em;box-sizing: border-box;text-align: center;}#sk-container-id-1 label.sk-toggleable__label-arrow:before {content: \"▸\";float: left;margin-right: 0.25em;color: #696969;}#sk-container-id-1 label.sk-toggleable__label-arrow:hover:before {color: black;}#sk-container-id-1 div.sk-estimator:hover label.sk-toggleable__label-arrow:before {color: black;}#sk-container-id-1 div.sk-toggleable__content {max-height: 0;max-width: 0;overflow: hidden;text-align: left;background-color: #f0f8ff;}#sk-container-id-1 div.sk-toggleable__content pre {margin: 0.2em;color: black;border-radius: 0.25em;background-color: #f0f8ff;}#sk-container-id-1 input.sk-toggleable__control:checked~div.sk-toggleable__content {max-height: 200px;max-width: 100%;overflow: auto;}#sk-container-id-1 input.sk-toggleable__control:checked~label.sk-toggleable__label-arrow:before {content: \"▾\";}#sk-container-id-1 div.sk-estimator input.sk-toggleable__control:checked~label.sk-toggleable__label {background-color: #d4ebff;}#sk-container-id-1 div.sk-label input.sk-toggleable__control:checked~label.sk-toggleable__label {background-color: #d4ebff;}#sk-container-id-1 input.sk-hidden--visually {border: 0;clip: rect(1px 1px 1px 1px);clip: rect(1px, 1px, 1px, 1px);height: 1px;margin: -1px;overflow: hidden;padding: 0;position: absolute;width: 1px;}#sk-container-id-1 div.sk-estimator {font-family: monospace;background-color: #f0f8ff;border: 1px dotted black;border-radius: 0.25em;box-sizing: border-box;margin-bottom: 0.5em;}#sk-container-id-1 div.sk-estimator:hover {background-color: #d4ebff;}#sk-container-id-1 div.sk-parallel-item::after {content: \"\";width: 100%;border-bottom: 1px solid gray;flex-grow: 1;}#sk-container-id-1 div.sk-label:hover label.sk-toggleable__label {background-color: #d4ebff;}#sk-container-id-1 div.sk-serial::before {content: \"\";position: absolute;border-left: 1px solid gray;box-sizing: border-box;top: 0;bottom: 0;left: 50%;z-index: 0;}#sk-container-id-1 div.sk-serial {display: flex;flex-direction: column;align-items: center;background-color: white;padding-right: 0.2em;padding-left: 0.2em;position: relative;}#sk-container-id-1 div.sk-item {position: relative;z-index: 1;}#sk-container-id-1 div.sk-parallel {display: flex;align-items: stretch;justify-content: center;background-color: white;position: relative;}#sk-container-id-1 div.sk-item::before, #sk-container-id-1 div.sk-parallel-item::before {content: \"\";position: absolute;border-left: 1px solid gray;box-sizing: border-box;top: 0;bottom: 0;left: 50%;z-index: -1;}#sk-container-id-1 div.sk-parallel-item {display: flex;flex-direction: column;z-index: 1;position: relative;background-color: white;}#sk-container-id-1 div.sk-parallel-item:first-child::after {align-self: flex-end;width: 50%;}#sk-container-id-1 div.sk-parallel-item:last-child::after {align-self: flex-start;width: 50%;}#sk-container-id-1 div.sk-parallel-item:only-child::after {width: 0;}#sk-container-id-1 div.sk-dashed-wrapped {border: 1px dashed gray;margin: 0 0.4em 0.5em 0.4em;box-sizing: border-box;padding-bottom: 0.4em;background-color: white;}#sk-container-id-1 div.sk-label label {font-family: monospace;font-weight: bold;display: inline-block;line-height: 1.2em;}#sk-container-id-1 div.sk-label-container {text-align: center;}#sk-container-id-1 div.sk-container {/* jupyter's `normalize.less` sets `[hidden] { display: none; }` but bootstrap.min.css set `[hidden] { display: none !important; }` so we also need the `!important` here to be able to override the default hidden behavior on the sphinx rendered scikit-learn.org. See: https://github.com/scikit-learn/scikit-learn/issues/21755 */display: inline-block !important;position: relative;}#sk-container-id-1 div.sk-text-repr-fallback {display: none;}</style><div id=\"sk-container-id-1\" class=\"sk-top-container\"><div class=\"sk-text-repr-fallback\"><pre>LogisticRegression()</pre><b>In a Jupyter environment, please rerun this cell to show the HTML representation or trust the notebook. <br />On GitHub, the HTML representation is unable to render, please try loading this page with nbviewer.org.</b></div><div class=\"sk-container\" hidden><div class=\"sk-item\"><div class=\"sk-estimator sk-toggleable\"><input class=\"sk-toggleable__control sk-hidden--visually\" id=\"sk-estimator-id-1\" type=\"checkbox\" checked><label for=\"sk-estimator-id-1\" class=\"sk-toggleable__label sk-toggleable__label-arrow\">LogisticRegression</label><div class=\"sk-toggleable__content\"><pre>LogisticRegression()</pre></div></div></div></div></div>"
      ],
      "text/plain": [
       "LogisticRegression()"
      ]
     },
     "execution_count": 16,
     "metadata": {},
     "output_type": "execute_result"
    }
   ],
   "source": [
    "from sklearn.linear_model import LogisticRegression\n",
    "log_model=LogisticRegression()\n",
    "log_model.fit(x,y)\n"
   ]
  },
  {
   "cell_type": "code",
   "execution_count": 17,
   "id": "bd0e1d5a",
   "metadata": {},
   "outputs": [
    {
     "data": {
      "text/plain": [
       "array([0, 0, 0, 0, 0, 1, 1, 0, 0, 0, 1, 0, 0, 0, 0, 0, 0, 1, 0, 0, 0, 0,\n",
       "       0, 0, 0, 0, 0, 1, 0, 0, 0, 0, 0, 1, 0, 0, 1, 0, 0, 0, 0, 0, 0],\n",
       "      dtype=int64)"
      ]
     },
     "execution_count": 17,
     "metadata": {},
     "output_type": "execute_result"
    }
   ],
   "source": [
    "log_model.predict(x_test)"
   ]
  },
  {
   "cell_type": "code",
   "execution_count": 18,
   "id": "b5cba3c4",
   "metadata": {},
   "outputs": [
    {
     "data": {
      "text/plain": [
       "array([[0.9643993 , 0.0356007 ],\n",
       "       [0.90906592, 0.09093408],\n",
       "       [0.87982403, 0.12017597],\n",
       "       [0.85861744, 0.14138256],\n",
       "       [0.96104764, 0.03895236],\n",
       "       [0.1970586 , 0.8029414 ],\n",
       "       [0.07403866, 0.92596134],\n",
       "       [0.94755733, 0.05244267],\n",
       "       [0.98614074, 0.01385926],\n",
       "       [0.71740056, 0.28259944],\n",
       "       [0.4526769 , 0.5473231 ],\n",
       "       [0.96104764, 0.03895236],\n",
       "       [0.88935998, 0.11064002],\n",
       "       [0.77064733, 0.22935267],\n",
       "       [0.92114754, 0.07885246],\n",
       "       [0.92767402, 0.07232598],\n",
       "       [0.81642865, 0.18357135],\n",
       "       [0.28774693, 0.71225307],\n",
       "       [0.82558284, 0.17441716],\n",
       "       [0.80200622, 0.19799378],\n",
       "       [0.90906592, 0.09093408],\n",
       "       [0.85861744, 0.14138256],\n",
       "       [0.8695867 , 0.1304133 ],\n",
       "       [0.82558284, 0.17441716],\n",
       "       [0.91650173, 0.08349827],\n",
       "       [0.76509488, 0.23490512],\n",
       "       [0.59166957, 0.40833043],\n",
       "       [0.03044844, 0.96955156],\n",
       "       [0.87649106, 0.12350894],\n",
       "       [0.98949363, 0.01050637],\n",
       "       [0.6286969 , 0.3713031 ],\n",
       "       [0.91408666, 0.08591334],\n",
       "       [0.90906592, 0.09093408],\n",
       "       [0.38456256, 0.61543744],\n",
       "       [0.92973651, 0.07026349],\n",
       "       [0.52261093, 0.47738907],\n",
       "       [0.49147539, 0.50852461],\n",
       "       [0.79701298, 0.20298702],\n",
       "       [0.7478848 , 0.2521152 ],\n",
       "       [0.82558284, 0.17441716],\n",
       "       [0.90103941, 0.09896059],\n",
       "       [0.97203273, 0.02796727],\n",
       "       [0.78147343, 0.21852657]])"
      ]
     },
     "execution_count": 18,
     "metadata": {},
     "output_type": "execute_result"
    }
   ],
   "source": [
    "log_model.predict_proba(x_test)\n"
   ]
  },
  {
   "cell_type": "code",
   "execution_count": 19,
   "id": "9ceaec49",
   "metadata": {},
   "outputs": [
    {
     "data": {
      "text/plain": [
       "array([0.0060241 , 0.00703229, 0.01050637, 0.01050637, 0.01188403,\n",
       "       0.01385926, 0.01385926, 0.01473708, 0.0182624 , 0.01882938,\n",
       "       0.01941362, 0.02193337, 0.02261169, 0.0247719 , 0.0247719 ,\n",
       "       0.02632245, 0.02713275, 0.02796727, 0.03062309, 0.03156149,\n",
       "       0.03156149, 0.0356007 , 0.0356007 , 0.03668586, 0.03780279,\n",
       "       0.03895236, 0.03895236, 0.04013542, 0.05244267, 0.05244267,\n",
       "       0.06074468, 0.06254655, 0.0643982 , 0.0663008 , 0.07026349,\n",
       "       0.07232598, 0.07232598, 0.07232598, 0.07444415, 0.07444415,\n",
       "       0.07444415, 0.07885246, 0.07885246, 0.08114506, 0.08114506,\n",
       "       0.08349827, 0.08349827, 0.08591334, 0.08591334, 0.08839152,\n",
       "       0.08839152, 0.08839152, 0.09093408, 0.09093408, 0.09093408,\n",
       "       0.09093408, 0.09093408, 0.09093408, 0.09354227, 0.09621736,\n",
       "       0.09621736, 0.09896059, 0.10177322, 0.10177322, 0.10177322,\n",
       "       0.10177322, 0.10177322, 0.10465651, 0.10465651, 0.1076117 ,\n",
       "       0.1076117 , 0.1076117 , 0.11064002, 0.11064002, 0.11064002,\n",
       "       0.11374271, 0.11374271, 0.11374271, 0.11692096, 0.11692096,\n",
       "       0.11692096, 0.11692096, 0.12017597, 0.12017597, 0.12017597,\n",
       "       0.12017597, 0.12017597, 0.12350894, 0.12350894, 0.126921  ,\n",
       "       0.126921  , 0.126921  , 0.1304133 , 0.1304133 , 0.1304133 ,\n",
       "       0.13398694, 0.13398694, 0.13398694, 0.13764302, 0.13764302,\n",
       "       0.14138256, 0.14138256, 0.14138256, 0.14138256, 0.1452066 ,\n",
       "       0.1452066 , 0.1452066 , 0.1452066 , 0.1491161 , 0.15311201,\n",
       "       0.15311201, 0.16136657, 0.16136657, 0.16562686, 0.16562686,\n",
       "       0.17441716, 0.17441716, 0.17441716, 0.17441716, 0.17441716,\n",
       "       0.17894848, 0.17894848, 0.18357135, 0.19309362, 0.19309362,\n",
       "       0.19309362, 0.19799378, 0.19799378, 0.20298702, 0.20298702,\n",
       "       0.20298702, 0.21325335, 0.21325335, 0.21852657, 0.21852657,\n",
       "       0.21852657, 0.22389306, 0.22935267, 0.22935267, 0.22935267,\n",
       "       0.22935267, 0.22935267, 0.22935267, 0.22935267, 0.22935267,\n",
       "       0.23490512, 0.24055002, 0.24055002, 0.24055002, 0.24055002,\n",
       "       0.24055002, 0.24628691, 0.24628691, 0.2521152 , 0.2521152 ,\n",
       "       0.27014098, 0.27632681, 0.27632681, 0.27632681, 0.28259944,\n",
       "       0.28259944, 0.28259944, 0.28895761, 0.29539992, 0.30192488,\n",
       "       0.30853085, 0.32197875, 0.3357282 , 0.3357282 , 0.35687945,\n",
       "       0.35687945, 0.3713031 , 0.3713031 , 0.39336839, 0.39336839,\n",
       "       0.4008263 , 0.40833043, 0.40833043, 0.41587755, 0.42346431,\n",
       "       0.44642827, 0.45413906, 0.45413906, 0.46187191, 0.47738907,\n",
       "       0.50852461, 0.53959415, 0.5473231 , 0.5473231 , 0.5550293 ,\n",
       "       0.57035901, 0.60058981, 0.61543744, 0.61543744, 0.62278326,\n",
       "       0.6300731 , 0.64447352, 0.67930789, 0.71225307, 0.73102069,\n",
       "       0.74309373, 0.7824793 , 0.8029414 , 0.82191672, 0.85933213,\n",
       "       0.87025432, 0.90695679, 0.91208273, 0.92596134, 0.93595636,\n",
       "       0.95084489, 0.96765748, 0.96955156, 0.99256269])"
      ]
     },
     "execution_count": 19,
     "metadata": {},
     "output_type": "execute_result"
    }
   ],
   "source": [
    "log_model.predict_proba(x)[:,1]"
   ]
  },
  {
   "cell_type": "code",
   "execution_count": 20,
   "id": "c9c72226",
   "metadata": {
    "scrolled": true
   },
   "outputs": [
    {
     "data": {
      "image/png": "[encoded data removed]",
      "text/plain": [
       "<Figure size 500x400 with 1 Axes>"
      ]
     },
     "metadata": {},
     "output_type": "display_data"
    }
   ],
   "source": [
    "plt.figure(figsize=(5,4))\n",
    "\n",
    "sns.scatterplot(x=glass['al'], y=glass['glass_type'])\n",
    "plt.plot(glass['al'], log_model.predict_proba(x)[:,1], color = 'red')\n",
    "plt.xlabel('AL')\n",
    "plt.ylabel('Glass Type')\n",
    "plt.show()"
   ]
  },
  {
   "cell_type": "code",
   "execution_count": 21,
   "id": "275269eb",
   "metadata": {},
   "outputs": [],
   "source": [
    "from sklearn.metrics import confusion_matrix,accuracy_score, classification_report"
   ]
  },
  {
   "cell_type": "code",
   "execution_count": 22,
   "id": "570f468a",
   "metadata": {},
   "outputs": [],
   "source": [
    "y_pred=log_model.predict(x_test)\n"
   ]
  },
  {
   "cell_type": "code",
   "execution_count": 23,
   "id": "98f0aac9",
   "metadata": {},
   "outputs": [
    {
     "data": {
      "text/plain": [
       "array([[34,  1],\n",
       "       [ 2,  6]], dtype=int64)"
      ]
     },
     "execution_count": 23,
     "metadata": {},
     "output_type": "execute_result"
    }
   ],
   "source": [
    "confusion_matrix(y_test,y_pred)"
   ]
  },
  {
   "cell_type": "code",
   "execution_count": 24,
   "id": "63db0692",
   "metadata": {},
   "outputs": [
    {
     "data": {
      "text/plain": [
       "0.9302325581395349"
      ]
     },
     "execution_count": 24,
     "metadata": {},
     "output_type": "execute_result"
    }
   ],
   "source": [
    "accuracy_score(y_test,y_pred)"
   ]
  },
  {
   "cell_type": "code",
   "execution_count": 25,
   "id": "0242fb36",
   "metadata": {},
   "outputs": [
    {
     "data": {
      "text/plain": [
       "'              precision    recall  f1-score   support\\n\\n           0       0.94      0.97      0.96        35\\n           1       0.86      0.75      0.80         8\\n\\n    accuracy                           0.93        43\\n   macro avg       0.90      0.86      0.88        43\\nweighted avg       0.93      0.93      0.93        43\\n'"
      ]
     },
     "execution_count": 25,
     "metadata": {},
     "output_type": "execute_result"
    }
   ],
   "source": [
    "classification_report(y_test,y_pred)"
   ]
  },
  {
   "cell_type": "code",
   "execution_count": 26,
   "id": "a9ccd952",
   "metadata": {},
   "outputs": [
    {
     "name": "stdout",
     "output_type": "stream",
     "text": [
      "              precision    recall  f1-score   support\n",
      "\n",
      "           0       0.94      0.97      0.96        35\n",
      "           1       0.86      0.75      0.80         8\n",
      "\n",
      "    accuracy                           0.93        43\n",
      "   macro avg       0.90      0.86      0.88        43\n",
      "weighted avg       0.93      0.93      0.93        43\n",
      "\n"
     ]
    }
   ],
   "source": [
    "print(classification_report(y_test,y_pred))"
   ]
  },
  {
   "cell_type": "code",
   "execution_count": null,
   "id": "3ebf9521",
   "metadata": {},
   "outputs": [],
   "source": []
  }
 ],
 "metadata": {
  "kernelspec": {
   "display_name": "Python 3 (ipykernel)",
   "language": "python",
   "name": "python3"
  },
  "language_info": {
   "codemirror_mode": {
    "name": "ipython",
    "version": 3
   },
   "file_extension": ".py",
   "mimetype": "text/x-python",
   "name": "python",
   "nbconvert_exporter": "python",
   "pygments_lexer": "ipython3",
   "version": "3.11.5"
  }
 },
 "nbformat": 4,
 "nbformat_minor": 5
}
